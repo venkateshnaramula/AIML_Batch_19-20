{
 "cells": [
  {
   "cell_type": "code",
   "execution_count": 3,
   "metadata": {},
   "outputs": [
    {
     "name": "stdout",
     "output_type": "stream",
     "text": [
      "The sum of 1 and 5 is 6\n"
     ]
    }
   ],
   "source": [
    "add_numbers = lambda x, y: x + y\n",
    " \n",
    "# Take input from the user\n",
    "num1 = 1\n",
    "num2 = 5\n",
    " \n",
    "# Call the lambda function to add the two numbers\n",
    "result = add_numbers(num1, num2)\n",
    " \n",
    "# Print the result\n",
    "print(\"The sum of\", num1, \"and\", num2, \"is\", result)"
   ]
  }
 ],
 "metadata": {
  "kernelspec": {
   "display_name": "Python 3",
   "language": "python",
   "name": "python3"
  },
  "language_info": {
   "codemirror_mode": {
    "name": "ipython",
    "version": 3
   },
   "file_extension": ".py",
   "mimetype": "text/x-python",
   "name": "python",
   "nbconvert_exporter": "python",
   "pygments_lexer": "ipython3",
   "version": "3.10.13"
  }
 },
 "nbformat": 4,
 "nbformat_minor": 2
}
